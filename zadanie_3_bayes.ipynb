{
 "cells": [
  {
   "cell_type": "code",
   "execution_count": 94,
   "metadata": {},
   "outputs": [],
   "source": [
    "import pandas as pd\n",
    "import numpy as np\n",
    "import seaborn as sns\n",
    "import matplotlib.pyplot as plt\n",
    "\n",
    "from sklearn.preprocessing import LabelEncoder\n",
    "from sklearn.feature_selection import SelectKBest\n",
    "from sklearn.feature_selection import chi2\n",
    "from sklearn.model_selection import train_test_split\n",
    "from sklearn.preprocessing import OneHotEncoder\n",
    "from sklearn.ensemble import RandomForestClassifier\n",
    "from sklearn.metrics import accuracy_score, classification_report, confusion_matrix\n"
   ]
  },
  {
   "cell_type": "code",
   "execution_count": null,
   "metadata": {},
   "outputs": [],
   "source": [
    "# Load the dataset\n",
    "data = pd.read_csv(\"diabetes_012_health_indicators_BRFSS2015.csv\")\n",
    "\n",
    "# Check the first few rows and column names\n",
    "print(data.head())\n",
    "print(data.columns)\n",
    "\n",
    "# Summary statistics of the dataset\n",
    "print(data.describe())\n",
    "print(\"Colnum : \", len(data.columns))\n",
    "print(\"Rownum : \", len(data))"
   ]
  },
  {
   "cell_type": "code",
   "execution_count": 96,
   "metadata": {},
   "outputs": [
    {
     "name": "stdout",
     "output_type": "stream",
     "text": [
      "Number of rows before removing duplicates:  253680\n",
      "Number of rows after removing duplicates:  229781\n",
      "Diabetes values:\n",
      "0    190055\n",
      "1     39726\n",
      "Name: Diabetes, dtype: int64\n"
     ]
    }
   ],
   "source": [
    "# Remove duplicates\n",
    "print(\"Number of rows before removing duplicates: \", len(data))\n",
    "data.drop_duplicates(inplace=True)\n",
    "print(\"Number of rows after removing duplicates: \", len(data))\n",
    "\n",
    "# Encode Diabetes_012 into binary values (0 and 1)\n",
    "data['Diabetes'] = np.where(data['Diabetes_012'].isin([1, 2]), 1, 0)\n",
    "data.drop(columns=['Diabetes_012'], inplace=True)\n",
    "print(\"Diabetes values:\")\n",
    "print(data['Diabetes'].value_counts(dropna=False))"
   ]
  },
  {
   "cell_type": "code",
   "execution_count": null,
   "metadata": {},
   "outputs": [],
   "source": [
    "# Unique values in each column\n",
    "print(data.nunique())\n",
    "\n",
    "# Unique values for Diabetes_012\n",
    "print(data['Diabetes'].value_counts(dropna=False))\n",
    "\n",
    "# Check data types\n",
    "print(data.dtypes)\n",
    "\n",
    "# Check for missing values\n",
    "print(data.isnull().sum())"
   ]
  },
  {
   "cell_type": "code",
   "execution_count": 98,
   "metadata": {},
   "outputs": [],
   "source": [
    "# Encode categorical variables\n",
    "categorical_cols = ['Education', 'Income', 'GenHlth']\n",
    "label_encoder = LabelEncoder()\n",
    "for col in categorical_cols:\n",
    "    data[col] = label_encoder.fit_transform(data[col])\n",
    "\n",
    "# Calculate correlation matrix for non-binary columns\n"
   ]
  },
  {
   "cell_type": "markdown",
   "metadata": {},
   "source": [
    "1. Join P.\n",
    "\n",
    "Aka je pravdepodobnost, ze ten ktory ma vacsi príjem ma lepsiu kvlitu vzdelavania a ma lepsi zdravotny stav  ?\n",
    "P(I,E,G) = P(I) * P(E|I) * P(G|E) * P(D) * P(pa) * P(Ph) - parent child\n",
    "\n",
    "\n",
    "2. Marginal p.\n",
    "\n",
    "Aka je pravdepoobnost, ze zdravotny stav cloveka je dobry ? \n",
    "P(E) = P(E|I) * P(I)                        - parent child          \n",
    "P(Ph) = P(Dw) * P(Pa) * P(Ph | Dw, Pa)\n",
    "P(Gh) = P(E) * P(Ph) * P(Gh | E, Ph)\n",
    "\n",
    "P(Gh) = P(I,Dw,Pa,E,Ph,Gh) ??\n",
    "\n",
    "3. Join\n",
    "\n",
    "Aka je pravdepodobnost, ze mlady s vysokym cholesterolom ma nizky krvny tlak?\n",
    "\n",
    "\n",
    "4. Conditional\n",
    "Aka je pravdepodobnost, ze clovek ma diabetes, za predpoklad ze ma nizky krvny tlakm vysoky cholesterol a je mlady?\n",
    "\n",
    "5. conditional\n",
    "Aka je pravdepodobnost, ze clovek ma dobry fyzicky stav za predpoklad ze casto poprechadza ale nie je fizycky aktivna?\n"
   ]
  },
  {
   "cell_type": "code",
   "execution_count": null,
   "metadata": {},
   "outputs": [],
   "source": [
    "\n",
    "# Define the bins for one-hot encoding\n",
    "physhlth_bin = [0,15,31]\n",
    "age_bin = [0,6,14]\n",
    "income_bin = [0,4,8]\n",
    "education_bin = [0,3,6]\n",
    "GenHlth_bin = [0,2,5]\n",
    "labels = [0, 1]\n",
    "\n",
    "# Make a copy of the DataFrame 'data'\n",
    "data_bayes = data.copy()\n",
    "\n",
    "# Apply one-hot encoding to the 'PhysHlth' column\n",
    "data_bayes['PhysHlth'] = pd.cut(data_bayes['PhysHlth'], bins=physhlth_bin, labels=labels, right=False)\n",
    "data_bayes['Age'] = pd.cut(data_bayes['Age'], bins=age_bin, labels=labels, right=False)\n",
    "data_bayes['Income'] = pd.cut(data_bayes['Income'], bins=income_bin, labels=labels, right=False)\n",
    "data_bayes['Education'] = pd.cut(data_bayes['Education'], bins=education_bin, labels=labels, right=False)\n",
    "data_bayes['GenHlth'] = pd.cut(data_bayes['GenHlth'], bins=GenHlth_bin, labels=labels, right=False)\n",
    "\n",
    "\n",
    "print(data_bayes['GenHlth'].value_counts(dropna=False))\n",
    "\n",
    "\n",
    "variables_parent_leaf = ['Age',  'Income',  'DiffWalk', 'PhysActivity']\n",
    "vars_mid = [\"Education\", 'PhysHlth','HighBP']\n",
    "parent_distributions = {}\n",
    "print(data_bayes.nunique())\n",
    "\n"
   ]
  },
  {
   "cell_type": "code",
   "execution_count": null,
   "metadata": {},
   "outputs": [],
   "source": [
    "print(data_bayes)"
   ]
  },
  {
   "cell_type": "code",
   "execution_count": null,
   "metadata": {},
   "outputs": [],
   "source": [
    "\n",
    "for variable in variables_parent_leaf:\n",
    "    # Calculate the probability distribution for the current variable\n",
    "    prob_dist = data_bayes[variable].value_counts(normalize=True).sort_index()\n",
    "    \n",
    "    # Create a DataFrame for the current variable\n",
    "    df = pd.DataFrame({'Value': prob_dist.index, 'Probability': prob_dist.values})\n",
    "    \n",
    "    # Save the DataFrame into probability_list dictionary with index of variable name\n",
    "    parent_distributions[variable] = df\n",
    "\n",
    "    # Display the probability distribution table\n",
    "    print(f\"P({variable})\")\n",
    "    print(df)\n",
    "    \n",
    "    # Calculate and display the sum of probabilities\n",
    "    print(f\"Sum of probabilities: {prob_dist.sum()}\\n\")\n",
    "\n",
    "# Print the probability_list dictionary\n",
    "print(parent_distributions)"
   ]
  },
  {
   "cell_type": "markdown",
   "metadata": {},
   "source": [
    "EDUCATION CPT"
   ]
  },
  {
   "cell_type": "code",
   "execution_count": null,
   "metadata": {},
   "outputs": [],
   "source": [
    "education = pd.DataFrame(index=[0, 1, 2, 3], columns=['Income', 'Education'])\n",
    "\n",
    "for i in range(4):\n",
    "    Income_val = i // 2 \n",
    "    Education_val = i % 2 \n",
    "    \n",
    "    query_str = f\"Income == {Income_val} and Education == {Education_val}\"\n",
    "    filtered_rows = data_bayes.query(query_str)\n",
    "    \n",
    "    count = len(filtered_rows)\n",
    "    \n",
    "    education.at[i, 'Income'] = Income_val\n",
    "    education.at[i, 'Education'] = Education_val\n",
    "    education.at[i, 'Probability'] = count / len(data_bayes)\n",
    "\n",
    "parent_distributions['Education'] = education\n",
    "\n",
    "print(parent_distributions['Education'])\n",
    "print(education['Probability'].sum())\n",
    "\n"
   ]
  },
  {
   "cell_type": "markdown",
   "metadata": {},
   "source": [
    "HIGH BP CPT"
   ]
  },
  {
   "cell_type": "code",
   "execution_count": null,
   "metadata": {},
   "outputs": [],
   "source": [
    "# Initialize an empty DataFrame for the conditional probability table (CPT)\n",
    "highp = pd.DataFrame(index=[0, 1, 2, 3, 4, 5, 6, 7], columns=['HighBP', 'HighChol', 'Age'])\n",
    "\n",
    "# Iterate over all possible combinations of HighBP, HighChol, and Age\n",
    "for i in range(8):\n",
    "    walk_val = i // 4  # 0 or 1\n",
    "    activity_val = (i % 4) // 2  # 0 or 1\n",
    "    Age_val = i % 2  # 0 or 1\n",
    "    \n",
    "    # Query the DataFrame to filter rows based on current values of HighBP, HighChol, and Age\n",
    "    query_str = f\"HighBP == {walk_val} and HighChol == {activity_val} and Age == {Age_val}\"\n",
    "    filtered_rows = data_bayes.query(query_str)\n",
    "    \n",
    "    # Count the number of rows in the filtered DataFrame\n",
    "    count = len(filtered_rows)\n",
    "    \n",
    "    # Store the count in the corresponding row of the cpt DataFrame\n",
    "    highp.at[i, 'HighBP'] = walk_val\n",
    "    highp.at[i, 'HighChol'] = activity_val\n",
    "    highp.at[i, 'Age'] = Age_val\n",
    "    highp.at[i, 'Probability'] = count / len(data_bayes)\n",
    "\n",
    "parent_distributions['HighBP'] = highp\n",
    "print(highp['Probability'].sum())\n",
    "\n",
    "print(parent_distributions['HighBP'])\n"
   ]
  },
  {
   "cell_type": "markdown",
   "metadata": {},
   "source": [
    " PHYSHLTH CPT"
   ]
  },
  {
   "cell_type": "code",
   "execution_count": null,
   "metadata": {},
   "outputs": [],
   "source": [
    "physhlth = pd.DataFrame(index=[0, 1, 2, 3, 4, 5, 6, 7], columns=['DiffWalk', 'PhysActivity', 'PhysHlth'])\n",
    "\n",
    "for i in range(8):\n",
    "    walk_val = i // 4  \n",
    "    activity_val = (i % 4) // 2 \n",
    "    phhealth_val = i % 2  # \n",
    "    \n",
    "    query_str = f\"DiffWalk == {walk_val} and PhysActivity == {activity_val} and PhysHlth == {phhealth_val}\"\n",
    "    filtered_rows = data_bayes.query(query_str)\n",
    "    \n",
    "    # Count the number of rows in the filtered DataFrame\n",
    "    count = len(filtered_rows)\n",
    "    \n",
    "    # Store the count in the corresponding row of the cpt DataFrame\n",
    "    physhlth.at[i, 'DiffWalk'] = walk_val\n",
    "    physhlth.at[i, 'PhysActivity'] = activity_val\n",
    "    physhlth.at[i, 'PhysHlth'] = phhealth_val\n",
    "    physhlth.at[i, 'Probability'] = count / len(data_bayes)\n",
    "\n",
    "parent_distributions['PhysHlth'] = physhlth\n",
    "\n",
    "print(parent_distributions['PhysHlth'])\n",
    "print(physhlth['Probability'].sum())\n",
    "\n"
   ]
  },
  {
   "cell_type": "markdown",
   "metadata": {},
   "source": [
    "GENHLTH"
   ]
  },
  {
   "cell_type": "code",
   "execution_count": null,
   "metadata": {},
   "outputs": [],
   "source": [
    "genhlth = pd.DataFrame(index=[0, 1, 2, 3, 4, 5, 6, 7], columns=[ 'PhysHlth','Education', 'GenHlth'])\n",
    "\n",
    "for i in range(8):\n",
    "    PhysHlth_val = i // 4  # 0 or 1\n",
    "    Education_val = (i % 4) // 2  # 0 or 1\n",
    "    GenHlth_val = i % 2  # 0 or 1\n",
    "    \n",
    "    # Query the DataFrame to filter rows based on current values of PhysHlth, Education, and GenHlth\n",
    "    query_str = f\"PhysHlth == {PhysHlth_val} and Education == {Education_val} and GenHlth == {GenHlth_val}\"\n",
    "    filtered_rows = data_bayes.query(query_str)\n",
    "    \n",
    "    count = len(filtered_rows)\n",
    "    \n",
    "    genhlth.at[i, 'PhysHlth'] = PhysHlth_val\n",
    "    genhlth.at[i, 'Education'] = Education_val\n",
    "    genhlth.at[i, 'GenHlth'] = GenHlth_val\n",
    "    genhlth.at[i, 'Probability'] = count / len(data_bayes)\n",
    "# Display the resulting table\n",
    "print(genhlth)\n",
    "parent_distributions['GenHlth'] = genhlth\n",
    "print(genhlth['Probability'].sum())"
   ]
  },
  {
   "cell_type": "markdown",
   "metadata": {},
   "source": [
    "DIABETES"
   ]
  },
  {
   "cell_type": "code",
   "execution_count": null,
   "metadata": {},
   "outputs": [],
   "source": [
    "diabetes = pd.DataFrame(index=[0, 1, 2, 3, 4, 5, 6, 7], columns=[ 'HighBP', 'GenHlth', 'Diabetes'])\n",
    "\n",
    "for i in range(8):\n",
    "    highbpval = i // 4  \n",
    "    eduval = (i % 4) // 2  \n",
    "    genhlthval = i % 2  \n",
    "    \n",
    "    # Query the DataFrame to filter rows based on current values of PhysHlth, Education, and GenHlth\n",
    "    query_str = f\"HighBP == {PhysHlth_val} and GenHlth == {Education_val} and Diabetes == {GenHlth_val}\"\n",
    "    filtered_rows = data_bayes.query(query_str)\n",
    "    \n",
    "    count = len(filtered_rows)\n",
    "    \n",
    "    diabetes.at[i, 'HighBP'] = highbpval\n",
    "    diabetes.at[i, 'GenHlth'] = eduval\n",
    "    diabetes.at[i, 'Diabetes'] = genhlthval\n",
    "    diabetes.at[i, 'Probability'] = count / len(data_bayes)\n",
    "# Display the resulting table\n",
    "print(diabetes)\n",
    "parent_distributions['Diabetes'] = diabetes\n",
    "print(diabetes['Probability'].sum())"
   ]
  },
  {
   "cell_type": "code",
   "execution_count": 107,
   "metadata": {},
   "outputs": [
    {
     "name": "stdout",
     "output_type": "stream",
     "text": [
      "Age: \n",
      "   Value  Probability\n",
      "0     0     0.212763\n",
      "1     1     0.787237 \n",
      " \n",
      "Income: \n",
      "   Value  Probability\n",
      "0     0     0.249925\n",
      "1     1     0.750075 \n",
      " \n",
      "DiffWalk: \n",
      "    Value  Probability\n",
      "0    0.0     0.814493\n",
      "1    1.0     0.185507 \n",
      " \n",
      "PhysActivity: \n",
      "    Value  Probability\n",
      "0    0.0     0.266645\n",
      "1    1.0     0.733355 \n",
      " \n",
      "Education: \n",
      "   Income Education  Probability\n",
      "0      0         0     0.040247\n",
      "1      0         1     0.209678\n",
      "2      1         0     0.019292\n",
      "3      1         1     0.730783 \n",
      " \n",
      "HighBP: \n",
      "   HighBP HighChol Age  Probability\n",
      "0      0        0   0     0.144176\n",
      "1      0        0   1     0.230646\n",
      "2      0        1   0     0.028588\n",
      "3      0        1   1     0.142148\n",
      "4      1        0   0     0.024184\n",
      "5      1        0   1     0.159234\n",
      "6      1        1   0     0.015815\n",
      "7      1        1   1     0.255208 \n",
      " \n",
      "PhysHlth: \n",
      "   DiffWalk PhysActivity PhysHlth  Probability\n",
      "0        0            0        0     0.158808\n",
      "1        0            0        1     0.017817\n",
      "2        0            1        0     0.603705\n",
      "3        0            1        1     0.034163\n",
      "4        1            0        0     0.043367\n",
      "5        1            0        1     0.046653\n",
      "6        1            1        0     0.058960\n",
      "7        1            1        1     0.036526 \n",
      " \n",
      "GenHlth: \n",
      "   PhysHlth Education GenHlth  Probability\n",
      "0        0         0       0     0.012377\n",
      "1        0         0       1     0.031843\n",
      "2        0         1       0     0.462880\n",
      "3        0         1       1     0.357741\n",
      "4        1         0       0     0.000735\n",
      "5        1         0       1     0.014583\n",
      "6        1         1       0     0.013356\n",
      "7        1         1       1     0.106484 \n",
      " \n",
      "Diabetes: \n",
      "   HighBP GenHlth Diabetes  Probability\n",
      "0      0       0        0     0.102511\n",
      "1      0       0        1     0.102511\n",
      "2      0       1        0     0.102511\n",
      "3      0       1        1     0.102511\n",
      "4      1       0        0     0.102511\n",
      "5      1       0        1     0.102511\n",
      "6      1       1        0     0.102511\n",
      "7      1       1        1     0.102511 \n",
      " \n"
     ]
    }
   ],
   "source": [
    "for key, value in parent_distributions.items():\n",
    "    print(f\"{key}: \\n {value} \\n \")"
   ]
  }
 ],
 "metadata": {
  "kernelspec": {
   "display_name": "Python 3",
   "language": "python",
   "name": "python3"
  },
  "language_info": {
   "codemirror_mode": {
    "name": "ipython",
    "version": 3
   },
   "file_extension": ".py",
   "mimetype": "text/x-python",
   "name": "python",
   "nbconvert_exporter": "python",
   "pygments_lexer": "ipython3",
   "version": "3.9.7"
  }
 },
 "nbformat": 4,
 "nbformat_minor": 2
}
