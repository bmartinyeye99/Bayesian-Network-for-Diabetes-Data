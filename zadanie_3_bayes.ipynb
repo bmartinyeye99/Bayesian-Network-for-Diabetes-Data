{
 "cells": [
  {
   "cell_type": "code",
   "execution_count": 61,
   "metadata": {},
   "outputs": [],
   "source": [
    "import pandas as pd\n",
    "import numpy as np\n",
    "import seaborn as sns\n",
    "import matplotlib.pyplot as plt\n",
    "\n",
    "from sklearn.preprocessing import LabelEncoder\n",
    "from sklearn.feature_selection import SelectKBest\n",
    "from sklearn.feature_selection import chi2\n",
    "from sklearn.model_selection import train_test_split\n",
    "from sklearn.preprocessing import OneHotEncoder\n",
    "from sklearn.ensemble import RandomForestClassifier\n",
    "from sklearn.metrics import accuracy_score, classification_report, confusion_matrix\n"
   ]
  },
  {
   "cell_type": "code",
   "execution_count": 62,
   "metadata": {},
   "outputs": [
    {
     "name": "stdout",
     "output_type": "stream",
     "text": [
      "   Diabetes_012  HighBP  HighChol  CholCheck   BMI  Smoker  Stroke  \\\n",
      "0           0.0     1.0       1.0        1.0  40.0     1.0     0.0   \n",
      "1           0.0     0.0       0.0        0.0  25.0     1.0     0.0   \n",
      "2           0.0     1.0       1.0        1.0  28.0     0.0     0.0   \n",
      "3           0.0     1.0       0.0        1.0  27.0     0.0     0.0   \n",
      "4           0.0     1.0       1.0        1.0  24.0     0.0     0.0   \n",
      "\n",
      "   HeartDiseaseorAttack  PhysActivity  Fruits  ...  AnyHealthcare  \\\n",
      "0                   0.0           0.0     0.0  ...            1.0   \n",
      "1                   0.0           1.0     0.0  ...            0.0   \n",
      "2                   0.0           0.0     1.0  ...            1.0   \n",
      "3                   0.0           1.0     1.0  ...            1.0   \n",
      "4                   0.0           1.0     1.0  ...            1.0   \n",
      "\n",
      "   NoDocbcCost  GenHlth  MentHlth  PhysHlth  DiffWalk  Sex   Age  Education  \\\n",
      "0          0.0      5.0      18.0      15.0       1.0  0.0   9.0        4.0   \n",
      "1          1.0      3.0       0.0       0.0       0.0  0.0   7.0        6.0   \n",
      "2          1.0      5.0      30.0      30.0       1.0  0.0   9.0        4.0   \n",
      "3          0.0      2.0       0.0       0.0       0.0  0.0  11.0        3.0   \n",
      "4          0.0      2.0       3.0       0.0       0.0  0.0  11.0        5.0   \n",
      "\n",
      "   Income  \n",
      "0     3.0  \n",
      "1     1.0  \n",
      "2     8.0  \n",
      "3     6.0  \n",
      "4     4.0  \n",
      "\n",
      "[5 rows x 22 columns]\n",
      "Index(['Diabetes_012', 'HighBP', 'HighChol', 'CholCheck', 'BMI', 'Smoker',\n",
      "       'Stroke', 'HeartDiseaseorAttack', 'PhysActivity', 'Fruits', 'Veggies',\n",
      "       'HvyAlcoholConsump', 'AnyHealthcare', 'NoDocbcCost', 'GenHlth',\n",
      "       'MentHlth', 'PhysHlth', 'DiffWalk', 'Sex', 'Age', 'Education',\n",
      "       'Income'],\n",
      "      dtype='object')\n",
      "        Diabetes_012         HighBP       HighChol      CholCheck  \\\n",
      "count  253680.000000  253680.000000  253680.000000  253680.000000   \n",
      "mean        0.296921       0.429001       0.424121       0.962670   \n",
      "std         0.698160       0.494934       0.494210       0.189571   \n",
      "min         0.000000       0.000000       0.000000       0.000000   \n",
      "25%         0.000000       0.000000       0.000000       1.000000   \n",
      "50%         0.000000       0.000000       0.000000       1.000000   \n",
      "75%         0.000000       1.000000       1.000000       1.000000   \n",
      "max         2.000000       1.000000       1.000000       1.000000   \n",
      "\n",
      "                 BMI         Smoker         Stroke  HeartDiseaseorAttack  \\\n",
      "count  253680.000000  253680.000000  253680.000000         253680.000000   \n",
      "mean       28.382364       0.443169       0.040571              0.094186   \n",
      "std         6.608694       0.496761       0.197294              0.292087   \n",
      "min        12.000000       0.000000       0.000000              0.000000   \n",
      "25%        24.000000       0.000000       0.000000              0.000000   \n",
      "50%        27.000000       0.000000       0.000000              0.000000   \n",
      "75%        31.000000       1.000000       0.000000              0.000000   \n",
      "max        98.000000       1.000000       1.000000              1.000000   \n",
      "\n",
      "        PhysActivity         Fruits  ...  AnyHealthcare    NoDocbcCost  \\\n",
      "count  253680.000000  253680.000000  ...  253680.000000  253680.000000   \n",
      "mean        0.756544       0.634256  ...       0.951053       0.084177   \n",
      "std         0.429169       0.481639  ...       0.215759       0.277654   \n",
      "min         0.000000       0.000000  ...       0.000000       0.000000   \n",
      "25%         1.000000       0.000000  ...       1.000000       0.000000   \n",
      "50%         1.000000       1.000000  ...       1.000000       0.000000   \n",
      "75%         1.000000       1.000000  ...       1.000000       0.000000   \n",
      "max         1.000000       1.000000  ...       1.000000       1.000000   \n",
      "\n",
      "             GenHlth       MentHlth       PhysHlth       DiffWalk  \\\n",
      "count  253680.000000  253680.000000  253680.000000  253680.000000   \n",
      "mean        2.511392       3.184772       4.242081       0.168224   \n",
      "std         1.068477       7.412847       8.717951       0.374066   \n",
      "min         1.000000       0.000000       0.000000       0.000000   \n",
      "25%         2.000000       0.000000       0.000000       0.000000   \n",
      "50%         2.000000       0.000000       0.000000       0.000000   \n",
      "75%         3.000000       2.000000       3.000000       0.000000   \n",
      "max         5.000000      30.000000      30.000000       1.000000   \n",
      "\n",
      "                 Sex            Age      Education         Income  \n",
      "count  253680.000000  253680.000000  253680.000000  253680.000000  \n",
      "mean        0.440342       8.032119       5.050434       6.053875  \n",
      "std         0.496429       3.054220       0.985774       2.071148  \n",
      "min         0.000000       1.000000       1.000000       1.000000  \n",
      "25%         0.000000       6.000000       4.000000       5.000000  \n",
      "50%         0.000000       8.000000       5.000000       7.000000  \n",
      "75%         1.000000      10.000000       6.000000       8.000000  \n",
      "max         1.000000      13.000000       6.000000       8.000000  \n",
      "\n",
      "[8 rows x 22 columns]\n",
      "Počet stĺpcov :  22\n",
      "Počet riadkov :  253680\n"
     ]
    }
   ],
   "source": [
    "# Load the dataset\n",
    "data = pd.read_csv(\"diabetes_012_health_indicators_BRFSS2015.csv\")\n",
    "\n",
    "# Check the first few rows and column names\n",
    "print(data.head())\n",
    "print(data.columns)\n",
    "\n",
    "# Summary statistics of the dataset\n",
    "print(data.describe())\n",
    "print(\"Počet stĺpcov : \", len(data.columns))\n",
    "print(\"Počet riadkov : \", len(data))"
   ]
  },
  {
   "cell_type": "code",
   "execution_count": 63,
   "metadata": {},
   "outputs": [
    {
     "name": "stdout",
     "output_type": "stream",
     "text": [
      "Number of rows before removing duplicates:  253680\n",
      "Number of rows after removing duplicates:  229781\n",
      "Diabetes values:\n",
      "Diabetes\n",
      "0    190055\n",
      "1     39726\n",
      "Name: count, dtype: int64\n"
     ]
    }
   ],
   "source": [
    "# Remove duplicates\n",
    "print(\"Number of rows before removing duplicates: \", len(data))\n",
    "data.drop_duplicates(inplace=True)\n",
    "print(\"Number of rows after removing duplicates: \", len(data))\n",
    "\n",
    "# Encode Diabetes_012 into binary values (0 and 1)\n",
    "data['Diabetes'] = np.where(data['Diabetes_012'].isin([1, 2]), 1, 0)\n",
    "data.drop(columns=['Diabetes_012'], inplace=True)\n",
    "print(\"Diabetes values:\")\n",
    "print(data['Diabetes'].value_counts(dropna=False))"
   ]
  },
  {
   "cell_type": "code",
   "execution_count": 64,
   "metadata": {},
   "outputs": [
    {
     "name": "stdout",
     "output_type": "stream",
     "text": [
      "Počet unikátnych hodnôt pre stĺpce:\n",
      "HighBP                   2\n",
      "HighChol                 2\n",
      "CholCheck                2\n",
      "BMI                     84\n",
      "Smoker                   2\n",
      "Stroke                   2\n",
      "HeartDiseaseorAttack     2\n",
      "PhysActivity             2\n",
      "Fruits                   2\n",
      "Veggies                  2\n",
      "HvyAlcoholConsump        2\n",
      "AnyHealthcare            2\n",
      "NoDocbcCost              2\n",
      "GenHlth                  5\n",
      "MentHlth                31\n",
      "PhysHlth                31\n",
      "DiffWalk                 2\n",
      "Sex                      2\n",
      "Age                     13\n",
      "Education                6\n",
      "Income                   8\n",
      "Diabetes                 2\n",
      "dtype: int64\n",
      "\n",
      "Počty hodnôt pre diabetes\n",
      "Diabetes\n",
      "0    190055\n",
      "1     39726\n",
      "Name: count, dtype: int64\n",
      "\n",
      "Dátové typy premenných:\n",
      "HighBP                  float64\n",
      "HighChol                float64\n",
      "CholCheck               float64\n",
      "BMI                     float64\n",
      "Smoker                  float64\n",
      "Stroke                  float64\n",
      "HeartDiseaseorAttack    float64\n",
      "PhysActivity            float64\n",
      "Fruits                  float64\n",
      "Veggies                 float64\n",
      "HvyAlcoholConsump       float64\n",
      "AnyHealthcare           float64\n",
      "NoDocbcCost             float64\n",
      "GenHlth                 float64\n",
      "MentHlth                float64\n",
      "PhysHlth                float64\n",
      "DiffWalk                float64\n",
      "Sex                     float64\n",
      "Age                     float64\n",
      "Education               float64\n",
      "Income                  float64\n",
      "Diabetes                  int32\n",
      "dtype: object\n",
      "\n",
      "HighBP                  0\n",
      "HighChol                0\n",
      "CholCheck               0\n",
      "BMI                     0\n",
      "Smoker                  0\n",
      "Stroke                  0\n",
      "HeartDiseaseorAttack    0\n",
      "PhysActivity            0\n",
      "Fruits                  0\n",
      "Veggies                 0\n",
      "HvyAlcoholConsump       0\n",
      "AnyHealthcare           0\n",
      "NoDocbcCost             0\n",
      "GenHlth                 0\n",
      "MentHlth                0\n",
      "PhysHlth                0\n",
      "DiffWalk                0\n",
      "Sex                     0\n",
      "Age                     0\n",
      "Education               0\n",
      "Income                  0\n",
      "Diabetes                0\n",
      "dtype: int64\n"
     ]
    }
   ],
   "source": [
    "# Unique values in each column\n",
    "print(f\"Počet unikátnych hodnôt pre stĺpce:\\n{data.nunique()}\\n\")\n",
    "\n",
    "# Unique values for Diabetes_012\n",
    "print(f\"Počty hodnôt pre diabetes\\n{data['Diabetes'].value_counts(dropna=False)}\\n\")\n",
    "\n",
    "# Check data types\n",
    "print(f\"Dátové typy premenných:\\n{data.dtypes}\\n\")\n",
    "\n",
    "# Check for missing values\n",
    "print(data.isnull().sum())"
   ]
  },
  {
   "cell_type": "markdown",
   "metadata": {},
   "source": [
    "# MiniProjekt 3 - Bayesovsé siete\n",
    "\n",
    "Vedci sa v roku XXXX rozhodli spraviť experimentálny prieskum na základe ich domnienok:\n",
    "- Že s pribúdajúcim vekom sa u ľudí zvyšuje riziko vysokého krvného tlaku **(HighBP)**. \n",
    "- Že vysoký cholesterol má priamy vplyv na vyšší krvný tlak **(HighBP)**.\n",
    "- Okrem toho sa domnievali, že ľudia s vysokým cholesterolom sa cítia menej všeobecne zdraví **(GenHlth)**.\n",
    "- Že úroveň príjmu sa odzrkadluje na úrovni vzdelania\n",
    "    - A úroveň vzdelania vplýva na všeobecné zdravie **(GenHlth)**.\n",
    "\n",
    "Problémy s Pohyblivosťou(DiffWalk) a nizkou Fyzickou Aktivitu(PhysActivity): \n",
    "- Vedci sa domnievali, že ľudia s problémami s chôdzou **(DiffWalk)** majú horšie fyzické zdravie **(PhysHlth)**.\n",
    "- Druhou domnienkou bolo, že ľudia s nižšou fyzickou aktivitou **(PhysActivity**) majú nižšie fyzické zdravie **(PhysHlth)**.\n",
    "    - A úroveň fyzického zdravia **(PhysHlth)** sa odrzrkadľuje na všeobecnom zdraví **(GenHlth)**. \n",
    "\n",
    "Zároveň prišli k domniekám, že: \n",
    "- Vyšší krvný tlak **(HighBP)** má vplyv na diabetes **(Diabetes)**.\n",
    "- Všeobecné zdravie má vplyv na diabetes **(GenHlth)**.\n",
    "\n",
    "\n",
    "Tieto predpoklady možno vizualizovať nasledujúcim stromom. \n",
    "\n",
    "![Bayesovský strom](images/Bayesian.drawio.png \"Bayesov strom\")\n",
    "\n"
   ]
  },
  {
   "cell_type": "markdown",
   "metadata": {},
   "source": [
    "Unitkátne hodnoty pre nami sledované premenné"
   ]
  },
  {
   "cell_type": "code",
   "execution_count": 73,
   "metadata": {},
   "outputs": [
    {
     "name": "stdout",
     "output_type": "stream",
     "text": [
      "Unique values for Age: [1.0, 2.0, 3.0, 4.0, 5.0, 6.0, 7.0, 8.0, 9.0, 10.0, 11.0, 12.0, 13.0]\n",
      "Unique values for HighBP: [0.0, 1.0]\n",
      "Unique values for HighChol: [0.0, 1.0]\n",
      "Unique values for Income: [1.0, 2.0, 3.0, 4.0, 5.0, 6.0, 7.0, 8.0]\n",
      "Unique values for DiffWalk: [0.0, 1.0]\n",
      "Unique values for PhysActivity: [0.0, 1.0]\n",
      "Unique values for PhysHlth: [0.0, 1.0, 2.0, 3.0, 4.0, 5.0, 6.0, 7.0, 8.0, 9.0, 10.0, 11.0, 12.0, 13.0, 14.0, 15.0, 16.0, 17.0, 18.0, 19.0, 20.0, 21.0, 22.0, 23.0, 24.0, 25.0, 26.0, 27.0, 28.0, 29.0, 30.0]\n",
      "Unique values for Education: [1.0, 2.0, 3.0, 4.0, 5.0, 6.0]\n",
      "Unique values for GenHlth: [1.0, 2.0, 3.0, 4.0, 5.0]\n",
      "Unique values for Diabetes: [0, 1]\n"
     ]
    }
   ],
   "source": [
    "columns_in_tree = ['Age', 'HighBP', 'HighChol', 'Income', 'DiffWalk', 'PhysActivity',\n",
    "                   'PhysHlth', 'Education', 'GenHlth', 'Diabetes']\n",
    "\n",
    "for col in columns_in_tree:\n",
    "    unique_vals = data[col].unique()  # Retrieve unique values\n",
    "    print(f\"Unique values for {col}: {sorted(unique_vals)}\")"
   ]
  },
  {
   "cell_type": "markdown",
   "metadata": {},
   "source": [
    "Vytvorenie binánrych stĺpcov"
   ]
  },
  {
   "cell_type": "code",
   "execution_count": 74,
   "metadata": {},
   "outputs": [
    {
     "name": "stdout",
     "output_type": "stream",
     "text": [
      "Dáta v strome po zmene(počty unikátnych hodnôt):\n",
      "Age             2\n",
      "HighBP          2\n",
      "HighChol        2\n",
      "Income          2\n",
      "DiffWalk        2\n",
      "PhysActivity    2\n",
      "PhysHlth        2\n",
      "Education       2\n",
      "GenHlth         2\n",
      "Diabetes        2\n",
      "dtype: int64\n",
      "Unique values for Age: [0, 1]\n",
      "Unique values for HighBP: [0, 1]\n",
      "Unique values for HighChol: [0, 1]\n",
      "Unique values for Income: [0, 1]\n",
      "Unique values for DiffWalk: [0, 1]\n",
      "Unique values for PhysActivity: [0, 1]\n",
      "Unique values for PhysHlth: [0, 1]\n",
      "Unique values for Education: [0, 1]\n",
      "Unique values for GenHlth: [0, 1]\n",
      "Unique values for Diabetes: [0, 1]\n"
     ]
    }
   ],
   "source": [
    "# Define bit ranges for each column\n",
    "age_bin = [1.0,7.0,14.0]\n",
    "income_bin = [1.0, 4.5, 9.0]\n",
    "physhlth_bin = [0.0, 15.5, 31.0]\n",
    "education_bin = [1.0, 3.5, 7.0]\n",
    "gen_hlth_bin = [1.0, 3.5, 6.0]\n",
    "\n",
    "\n",
    "labels = [0, 1]\n",
    "\n",
    "# Make a copy of the DataFrame 'data'\n",
    "data_bayes = data.copy()\n",
    "\n",
    "# Apply binning with `pd.cut` for columns requiring manual binning\n",
    "data_bayes['Age'] = pd.cut(data_bayes['Age'], bins=age_bin, labels=labels, right=False)\n",
    "data_bayes['Income'] = pd.cut(data_bayes['Income'], bins=income_bin, labels=labels, right=False)\n",
    "data_bayes['PhysHlth'] = pd.cut(data_bayes['PhysHlth'], bins=physhlth_bin, labels=labels, right=False)\n",
    "data_bayes['Education'] = pd.cut(data_bayes['Education'], bins=education_bin, labels=labels, right=False)\n",
    "data_bayes['GenHlth'] = pd.cut(data_bayes['GenHlth'], bins=gen_hlth_bin, labels=labels, right=False)\n",
    "\n",
    "binary_columns = ['HighBP', 'HighChol', 'DiffWalk', 'PhysActivity', 'Diabetes']\n",
    "for col in binary_columns:\n",
    "    data_bayes[col] = data_bayes[col].astype(int)\n",
    "\n",
    "print(f\"Dáta v strome po zmene(počty unikátnych hodnôt):\\n{data_bayes[columns_in_tree].nunique()}\")\n",
    "\n",
    "parent_nodes  = ['Age',  'Income',  'DiffWalk', 'PhysActivity', 'HighChol']\n",
    "mid_modes = [\"Education\", 'PhysHlth','HighBP']\n",
    "parent_distributions = {}\n",
    "\n",
    "for col in columns_in_tree:\n",
    "    unique_vals = data_bayes[col].unique()  # Retrieve unique values\n",
    "    print(f\"Unique values for {col}: {sorted(unique_vals)}\")\n"
   ]
  },
  {
   "cell_type": "markdown",
   "metadata": {},
   "source": [
    "Vyrátanie pravdepodobností pre parent nodes"
   ]
  },
  {
   "cell_type": "code",
   "execution_count": 75,
   "metadata": {},
   "outputs": [
    {
     "name": "stdout",
     "output_type": "stream",
     "text": [
      "Rozloženie pravdepodobností pre Age: {1: 0.712, 0: 0.288}\n",
      "Rozloženie pravdepodobností pre Income: {1: 0.75, 0: 0.25}\n",
      "Rozloženie pravdepodobností pre DiffWalk: {0: 0.814, 1: 0.186}\n",
      "Rozloženie pravdepodobností pre PhysActivity: {1: 0.733, 0: 0.267}\n",
      "Rozloženie pravdepodobností pre HighChol: {0: 0.558, 1: 0.442}\n"
     ]
    }
   ],
   "source": [
    "parent_distributions = {}\n",
    "\n",
    "# For each parent node, calculate marginal probabilities\n",
    "parent_nodes = ['Age', 'Income', 'DiffWalk', 'PhysActivity', 'HighChol']\n",
    "for node in parent_nodes:\n",
    "    counts = data_bayes[node].value_counts(normalize=True, dropna=False).round(3)\n",
    "    parent_distributions[node] = counts.to_dict()\n",
    "    print(f\"Rozloženie pravdepodobností pre {node}: {parent_distributions[node]}\")"
   ]
  },
  {
   "cell_type": "code",
   "execution_count": 76,
   "metadata": {},
   "outputs": [
    {
     "name": "stdout",
     "output_type": "stream",
     "text": [
      "  Education Income   count  P(Education|Income)\n",
      "0         0      0    9248             0.161036\n",
      "1         0      1    4433             0.025720\n",
      "2         1      0   48180             0.838964\n",
      "3         1      1  167920             0.974280\n"
     ]
    }
   ],
   "source": [
    "occurrences = data_bayes.groupby(['Education', 'Income']).size().reset_index(name='count')\n",
    "occurrences['P(Education|Income)'] = occurrences['count'] / occurrences.groupby('Income')['count'].transform('sum')\n",
    "print(occurrences)"
   ]
  },
  {
   "cell_type": "markdown",
   "metadata": {},
   "source": [
    "Na ukážku (len raz:D) aj s formulou  $$ P(Education|Income) = {P(Education,Income) \\over P(Income)} $$"
   ]
  },
  {
   "cell_type": "code",
   "execution_count": 77,
   "metadata": {},
   "outputs": [
    {
     "name": "stdout",
     "output_type": "stream",
     "text": [
      "  Education Income   count  P(Education|Income)\n",
      "0         0      0    9248             0.161036\n",
      "1         0      1    4433             0.025720\n",
      "2         1      0   48180             0.838964\n",
      "3         1      1  167920             0.974280\n"
     ]
    }
   ],
   "source": [
    "# P(Education, Income)\n",
    "joint_prob = data_bayes.groupby(['Education', 'Income']).size().reset_index(name='count')\n",
    "\n",
    "#P(Income)\n",
    "marginal_prob_y = data_bayes.groupby('Income').size().reset_index(name='count')\n",
    "marginal_prob_y['P(Income)'] = marginal_prob_y['count'] / data_bayes.shape[0]\n",
    "\n",
    "#P(Education|Income)\n",
    "conditional_prob = pd.merge(joint_prob, marginal_prob_y[['Income', 'P(Income)']], on='Income')\n",
    "joint_prob['P(Education|Income)'] = joint_prob['count'] / joint_prob.groupby('Income')['count'].transform('sum')\n",
    "\n",
    "# Display\n",
    "print(joint_prob)"
   ]
  },
  {
   "cell_type": "code",
   "execution_count": 78,
   "metadata": {},
   "outputs": [
    {
     "name": "stdout",
     "output_type": "stream",
     "text": [
      "  GenHlth Education   count  P(GenHlth|Education)\n",
      "0       0         0    7503              0.548425\n",
      "1       0         1  178654              0.826719\n",
      "2       1         0    6178              0.451575\n",
      "3       1         1   37446              0.173281\n"
     ]
    }
   ],
   "source": [
    "occurrences = data_bayes.groupby(['GenHlth', 'Education']).size().reset_index(name='count')\n",
    "occurrences['P(GenHlth|Education)'] = occurrences['count'] / occurrences.groupby('Education')['count'].transform('sum')\n",
    "print(occurrences)\n"
   ]
  },
  {
   "cell_type": "markdown",
   "metadata": {},
   "source": [
    "# 1. Join Probability\n",
    "\n",
    "- Aka je pravdepodobnost, že človek:\n",
    "    - má väčší príjem **a** \n",
    "    - má lepšiu kvlitu vzdelania **a**\n",
    "    - lepší zdravotný stav  ? \n",
    "\n",
    "Podľa parent child:\n",
    "## P(Income<sup>+</sup>, Education<sup>+</sup>, GenHlth<sup>+</sup>) = P(Income<sup>+</sup>)×P(Education<sup>+</sup> ∣ Income<sup>+</sup>)×P(GenHlth<sup>+</sup> ∣ Education<sup>+</sup>)"
   ]
  },
  {
   "cell_type": "markdown",
   "metadata": {},
   "source": [
    "\n",
    "# 2. Marginal P.\n",
    "\n",
    "- Aka je pravdepoobnost, že zdravotny stav cloveka je dobry ? \n",
    "P(E) = P(E|I) * P(I)                        - parent child          \n",
    "P(Ph) = P(Dw) * P(Pa) * P(Ph | Dw, Pa)\n",
    "P(Gh) = P(E) * P(Ph) * P(Gh | E, Ph)\n",
    "\n",
    "P(Gh) = P(I,Dw,Pa,E,Ph,Gh) ??\n",
    "\n",
    "# 3. Join P\n",
    "\n",
    "- Aka je pravdepodobnost, ze človek je mlady, má vysoký cholesterol a ma nizky krvny tlak?\n",
    "\n",
    "\n",
    "# 4. Conditional P\n",
    "\n",
    "- Aká je pravdepodobnosť, že človek má diabetes, za predpokladu že má nízky krvný tlak, vysoký cholesterol a je mladý?\n",
    "\n",
    "# 5. Conditional P\n",
    "\n",
    "- Aka je pravdepodobnosť, ze človek má dobrý fyzický stav za predpokladu že nemá problém s prechádzaním sa ale nie je fyzicky aktívny?\n"
   ]
  }
 ],
 "metadata": {
  "kernelspec": {
   "display_name": "Python 3",
   "language": "python",
   "name": "python3"
  },
  "language_info": {
   "codemirror_mode": {
    "name": "ipython",
    "version": 3
   },
   "file_extension": ".py",
   "mimetype": "text/x-python",
   "name": "python",
   "nbconvert_exporter": "python",
   "pygments_lexer": "ipython3",
   "version": "3.8.10"
  }
 },
 "nbformat": 4,
 "nbformat_minor": 2
}
